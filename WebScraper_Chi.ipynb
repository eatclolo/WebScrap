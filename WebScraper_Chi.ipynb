{
 "metadata": {
  "language_info": {
   "codemirror_mode": {
    "name": "ipython",
    "version": 3
   },
   "file_extension": ".py",
   "mimetype": "text/x-python",
   "name": "python",
   "nbconvert_exporter": "python",
   "pygments_lexer": "ipython3",
   "version": "3.8.5"
  },
  "orig_nbformat": 2,
  "kernelspec": {
   "name": "python385jvsc74a57bd0dca0ade3e726a953b501b15e8e990130d2b7799f14cfd9f4271676035ebe5511",
   "display_name": "Python 3.8.5 64-bit ('base': conda)"
  }
 },
 "nbformat": 4,
 "nbformat_minor": 2,
 "cells": [
  {
   "cell_type": "code",
   "execution_count": 1,
   "metadata": {},
   "outputs": [],
   "source": [
    "import requests\n",
    "from bs4 import BeautifulSoup\n",
    "import re\n",
    "import os \n",
    "import pandas as pd"
   ]
  },
  {
   "cell_type": "code",
   "execution_count": 2,
   "metadata": {},
   "outputs": [],
   "source": [
    "Page_Number_Start = 1\n",
    "Page_Number_End = 1\n"
   ]
  },
  {
   "cell_type": "code",
   "execution_count": 3,
   "metadata": {},
   "outputs": [],
   "source": [
    "def Page_Loop():\n",
    "    df = pd.DataFrame({\"Case_Info\":[], \"Neutral_CItation_No\":[], \"Date_of_Judgement\":[], \"Title\":[], \"Path\":[]})\n",
    "    for Page in range(Page_Number_Start, Page_Number_End+1, 1):\n",
    "        df = Extract_Page_Info(Page, df)    \n",
    "    return df"
   ]
  },
  {
   "cell_type": "code",
   "execution_count": 4,
   "metadata": {},
   "outputs": [],
   "source": [
    "def Extract_Page_Info(Page, df):\n",
    "    Download_id = []\n",
    "    Doc_Info = []\n",
    "    Case_No = []\n",
    "    Neutral_Citation_No = []\n",
    "    Date_of_Judgement = []\n",
    "    Title = []\n",
    "    Archive_URL = \"https://legalref.judiciary.hk/lrs/common/ju/tjpv.jsp?page=\" + str(Page) + \"&CL=&I_SORT=s_ud&I_SORT_ORDER=1\"\n",
    "    #print(Archive_URL)\n",
    "    Archive_Page = requests.get(Archive_URL)\n",
    "    Archive_Page_Soup = BeautifulSoup(Archive_Page.content,'html.parser')\n",
    "    #print(Archive_Page_Soup.prettify())\n",
    "    Download_id_tag = Archive_Page_Soup.find_all('a', attrs={\"class\": \"smalltxt\"})\n",
    "    Download_id_pattern = re.compile(\"=(?P<caseID>\\d+)\")\n",
    "    for i in range(len(Download_id_tag)):\n",
    "        #print(i)\n",
    "        #print(Download_id_tag[i])\n",
    "        Download = Download_id_tag[i]['href']\n",
    "        Download_ID = re.search(Download_id_pattern, Download)\n",
    "        Download_id.append(Download_ID.group('caseID'))\n",
    "        Title.append(Download_id_tag[i].text)\n",
    "    #print(Download_id)\n",
    "    #print(Title)\n",
    "    Case_number = Archive_Page_Soup.find_all('td', attrs={\"align\":\"left\", \"class\":\"smalltxt\", \"nowrap\":\"\", \"style\":\"border-right:1px solid #A35910;\", \"valign\":\"top\"})\n",
    "    for i in range(len(Case_number)):\n",
    "        Case_No.append(Case_number[i].text.replace(\" \",\"\"))\n",
    "    #print(Case_No)\n",
    "    Others = Archive_Page_Soup.find_all('td', attrs={\"valign\":\"top\", \"align\":\"center\", \"class\":\"smalltxt\", \"style\":\"border-right:1px solid #A35910;\"})\n",
    "    for i in range(len(Others)):\n",
    "        if i % 2 == 0:\n",
    "            Neutral_Citation_No.append(Others[i].text)\n",
    "        else:\n",
    "            Date_of_Judgement.append(Others[i].text)\n",
    "    #print(Neutral_Citation_No)\n",
    "    #print(Date_of_Judgement)\n",
    "    for i in range(len(Download_id)):\n",
    "        df = Extract_Chi_ID(Download_id[i], Case_No[i], Neutral_Citation_No[i], Date_of_Judgement[i], Title[i], df)\n",
    "    return df"
   ]
  },
  {
   "cell_type": "code",
   "execution_count": 5,
   "metadata": {},
   "outputs": [],
   "source": [
    "def Extract_Chi_ID(id, Case_Info, Neutral_CItation_No, Date_of_Judgement, Title, df):\n",
    "    #print(str(id)\n",
    "    DocURL = \"https://legalref.judiciary.hk/lrs/common/ju/ju_top.jsp?DIS=\" + str(id) + \"&amp\"\n",
    "    #print(DocURL)\n",
    "    Doc_Page = requests.get(DocURL)\n",
    "    Doc_Page_Soup = BeautifulSoup(Doc_Page.content, 'html.parser')\n",
    "    #print(Doc_Page_Soup.prettify())\n",
    "    #Chi_ID = Doc_Page_Soup.find_all('a', attrs = {\"target\":\"_top\", \"class\":\"default\", \"style\":\"font-size:10pt\"})\n",
    "    Chi_ID_Tag = Doc_Page_Soup.find_all('a', text = 'Original Chinese')\n",
    "    Chi_ID_href = Chi_ID_Tag[0]['href']\n",
    "    #print(Chi_ID_href)\n",
    "    Chi_ID_Pattern = re.compile(\"=(?P<caseID>\\d+)\")\n",
    "    Chi_ID_Search = re.search(Chi_ID_Pattern, Chi_ID_href)\n",
    "    #print(Chi_ID_Search)\n",
    "    Chi_ID = Chi_ID_Search.group('caseID')\n",
    "    #print(Chi_ID)\n",
    "    #print(Chi_ID[0]['href'])\n",
    "    #DocContent = str(Doc_Page_Soup.find('body'))\n",
    "    #Doc_Title = Doc_Page_Soup.title.text.replace(\"/\", \"-\")\n",
    "    #print(Doc_Title)\n",
    "    #Path = r\"./Document/\" + str(Title) + \".txt\"\n",
    "    #DF_Dict = {'Case_Info': str(Case_Info), 'Neutral_CItation_No': str(Neutral_CItation_No), 'Date_of_Judgement': str(Date_of_Judgement), 'Title': str(Title), 'Path': str(Path)}\n",
    "    #print(DF_Dict)\n",
    "    #print(DF_Info)\n",
    "    #Create_Dir()\n",
    "    #Save_As_Txt(Doc_Title,DocContent)\n",
    "    #df = DataFrameRecord(DF_Dict, df)\n",
    "    df = Extract_Document(Chi_ID, Case_Info, Neutral_CItation_No, Date_of_Judgement, Title, df)\n",
    "    return df"
   ]
  },
  {
   "cell_type": "code",
   "execution_count": 6,
   "metadata": {},
   "outputs": [],
   "source": [
    "def Extract_Document(id, Case_Info, Neutral_CItation_No, Date_of_Judgement, Title, df):\n",
    "    #print(str(id)\n",
    "    DocURL = \"https://legalref.judiciary.hk/lrs/common/ju/ju_body.jsp?DIS=\" + str(id) + \"&AH=&QS=&FN=&currpage=T#\"\n",
    "    #print(DocURL)\n",
    "    Doc_Page = requests.get(DocURL)\n",
    "    Doc_Page_Soup = BeautifulSoup(Doc_Page.content, 'html.parser')\n",
    "    DocContent = str(Doc_Page_Soup.find('body'))\n",
    "    Doc_Title = Doc_Page_Soup.title.text.replace(\"/\", \"-\")\n",
    "    Chi_Title_Pattern = re.compile(\"(?<=\\s).*\")\n",
    "    Chi_Title = re.search(Chi_Title_Pattern, Doc_Title).group()\n",
    "    #print(Chi_Title.group())\n",
    "    #print(Doc_Title)\n",
    "    Path = r\"./Chi_Document/\" + str(Doc_Title) + \".html\"\n",
    "    DF_Dict = {'Case_Info': str(Case_Info), 'Neutral_CItation_No': str(Neutral_CItation_No), 'Date_of_Judgement': str(Date_of_Judgement), 'Title': str(Chi_Title), 'Path': str(Path)}\n",
    "    #print(DF_Dict)\n",
    "    #print(DF_Info)\n",
    "    Create_Dir()\n",
    "    Save_As_HTML(Doc_Title,DocContent)\n",
    "    df = DataFrameRecord(DF_Dict, df)\n",
    "    return df"
   ]
  },
  {
   "cell_type": "code",
   "execution_count": 7,
   "metadata": {},
   "outputs": [],
   "source": [
    "def DataFrameRecord(Record, df):\n",
    "    return df.append(Record, ignore_index=True)"
   ]
  },
  {
   "cell_type": "code",
   "execution_count": 8,
   "metadata": {},
   "outputs": [],
   "source": [
    "def Save_As_HTML(Title,Content):\n",
    "    path = r\"./Chi_Document/\" + str(Title) + \".html\"\n",
    "    Text_File = open(path, \"w\")\n",
    "    Text_File.write(Content)\n",
    "    Text_File.close "
   ]
  },
  {
   "cell_type": "code",
   "execution_count": 9,
   "metadata": {},
   "outputs": [],
   "source": [
    "def Create_Dir():\n",
    "    if not (os.path.exists(\"./Chi_Document\")):\n",
    "        os.mkdir(\"./Chi_Document\")"
   ]
  },
  {
   "cell_type": "code",
   "execution_count": 10,
   "metadata": {},
   "outputs": [],
   "source": [
    "df = Page_Loop()"
   ]
  },
  {
   "cell_type": "code",
   "execution_count": 11,
   "metadata": {},
   "outputs": [
    {
     "output_type": "execute_result",
     "data": {
      "text/plain": [
       "       Case_Info Neutral_CItation_No Date_of_Judgement              Title  \\\n",
       "0   HCMA492/2019   [2020] HKCFI 2425        17/09/2020  香港特別行政區 訴 吳文遠及另二人   \n",
       "1    HCMA21/2020   [2020] HKCFI 2436        21/09/2020      香港特別行政區 訴 邱金龍   \n",
       "2   HCMA580/2019   [2020] HKCFI 2235        04/09/2020      香港特別行政區 訴 李紫彤   \n",
       "3    CACC94/2019     [2020] HKCA 767        24/09/2020      香港特別行政區 訴 蔡智德   \n",
       "4     CAAR1/2020     [2020] HKCA 788        22/09/2020        律政司司長 訴 SWS   \n",
       "5   HCMA101/2020   [2020] HKCFI 1808        06/08/2020  香港特別行政區 訴 翁偉成及另一人   \n",
       "6     CAAR7/2020     [2020] HKCA 829        28/10/2020      律政司司長 訴 S H Y   \n",
       "7    HCMA20/2020   [2020] HKCFI 1783        07/08/2020      香港特別行政區 訴 浮光苗   \n",
       "8   HCMA619/2018   [2020] HKCFI 1966        21/08/2020      香港特別行政區 訴 莊志強   \n",
       "9     CACC5/2019     [2020] HKCA 295        14/05/2020      香港特別行政區 訴 關韻琪   \n",
       "10    CAAR4/2019     [2020] HKCA 262        24/04/2020        律政司司長 訴 羅敏聰   \n",
       "11    CAAR3/2019     [2020] HKCA 246        29/04/2020        律政司司長 訴 黃志平   \n",
       "12  HCMA299/2019    [2020] HKCFI 612        23/04/2020  香港特別行政區 訴 曾少寶及另一人   \n",
       "13    CAAR1/2019     [2020] HKCA 159        26/03/2020        律政司司長 訴 曾惠玲   \n",
       "14  CACC164/2018     [2020] HKCA 275        29/04/2020  香港特別行政區 訴 梁天琦及另二人   \n",
       "15    CAAR2/2018     [2019] HKCA 951        24/09/2019        律政司司長 訴 張勁光   \n",
       "16   CACC42/2018     [2019] HKCA 725        11/07/2019      香港特別行政區 訴 李偉嘉   \n",
       "17   CACC74/2019     [2019] HKCA 972        23/08/2019      香港特別行政區 訴 梁炳權   \n",
       "18  CACV586/2018     [2019] HKCA 925        20/08/2019    陳瑞華 對 上訴委員會（房屋）   \n",
       "19  HCMA397/2019   [2019] HKCFI 2826        28/11/2019      香港特別行政區 訴 楊啟強   \n",
       "\n",
       "                                                 Path  \n",
       "0   ./Chi_Document/HCMA492-2019 香港特別行政區 訴 吳文遠及另二人....  \n",
       "1       ./Chi_Document/HCMA21-2020 香港特別行政區 訴 邱金龍.html  \n",
       "2      ./Chi_Document/HCMA580-2019 香港特別行政區 訴 李紫彤.html  \n",
       "3       ./Chi_Document/CACC94-2019 香港特別行政區 訴 蔡智德.html  \n",
       "4          ./Chi_Document/CAAR1-2020 律政司司長 訴 SWS.html  \n",
       "5   ./Chi_Document/HCMA101-2020 香港特別行政區 訴 翁偉成及另一人....  \n",
       "6        ./Chi_Document/CAAR7-2020 律政司司長 訴 S H Y.html  \n",
       "7       ./Chi_Document/HCMA20-2020 香港特別行政區 訴 浮光苗.html  \n",
       "8      ./Chi_Document/HCMA619-2018 香港特別行政區 訴 莊志強.html  \n",
       "9       ./Chi_Document/CACC5A-2019 香港特別行政區 訴 關韻琪.html  \n",
       "10         ./Chi_Document/CAAR4-2019 律政司司長 訴 羅敏聰.html  \n",
       "11         ./Chi_Document/CAAR3-2019 律政司司長 訴 黃志平.html  \n",
       "12  ./Chi_Document/HCMA299-2019 香港特別行政區 訴 曾少寶及另一人....  \n",
       "13         ./Chi_Document/CAAR1-2019 律政司司長 訴 曾惠玲.html  \n",
       "14  ./Chi_Document/CACC164-2018 香港特別行政區 訴 梁天琦及另二人....  \n",
       "15         ./Chi_Document/CAAR2-2018 律政司司長 訴 張勁光.html  \n",
       "16     ./Chi_Document/CACC42A-2018 香港特別行政區 訴 李偉嘉.html  \n",
       "17      ./Chi_Document/CACC74-2019 香港特別行政區 訴 梁炳權.html  \n",
       "18   ./Chi_Document/CACV586-2018 陳瑞華 對 上訴委員會（房屋）.html  \n",
       "19     ./Chi_Document/HCMA397-2019 香港特別行政區 訴 楊啟強.html  "
      ],
      "text/html": "<div>\n<style scoped>\n    .dataframe tbody tr th:only-of-type {\n        vertical-align: middle;\n    }\n\n    .dataframe tbody tr th {\n        vertical-align: top;\n    }\n\n    .dataframe thead th {\n        text-align: right;\n    }\n</style>\n<table border=\"1\" class=\"dataframe\">\n  <thead>\n    <tr style=\"text-align: right;\">\n      <th></th>\n      <th>Case_Info</th>\n      <th>Neutral_CItation_No</th>\n      <th>Date_of_Judgement</th>\n      <th>Title</th>\n      <th>Path</th>\n    </tr>\n  </thead>\n  <tbody>\n    <tr>\n      <th>0</th>\n      <td>HCMA492/2019</td>\n      <td>[2020] HKCFI 2425</td>\n      <td>17/09/2020</td>\n      <td>香港特別行政區 訴 吳文遠及另二人</td>\n      <td>./Chi_Document/HCMA492-2019 香港特別行政區 訴 吳文遠及另二人....</td>\n    </tr>\n    <tr>\n      <th>1</th>\n      <td>HCMA21/2020</td>\n      <td>[2020] HKCFI 2436</td>\n      <td>21/09/2020</td>\n      <td>香港特別行政區 訴 邱金龍</td>\n      <td>./Chi_Document/HCMA21-2020 香港特別行政區 訴 邱金龍.html</td>\n    </tr>\n    <tr>\n      <th>2</th>\n      <td>HCMA580/2019</td>\n      <td>[2020] HKCFI 2235</td>\n      <td>04/09/2020</td>\n      <td>香港特別行政區 訴 李紫彤</td>\n      <td>./Chi_Document/HCMA580-2019 香港特別行政區 訴 李紫彤.html</td>\n    </tr>\n    <tr>\n      <th>3</th>\n      <td>CACC94/2019</td>\n      <td>[2020] HKCA 767</td>\n      <td>24/09/2020</td>\n      <td>香港特別行政區 訴 蔡智德</td>\n      <td>./Chi_Document/CACC94-2019 香港特別行政區 訴 蔡智德.html</td>\n    </tr>\n    <tr>\n      <th>4</th>\n      <td>CAAR1/2020</td>\n      <td>[2020] HKCA 788</td>\n      <td>22/09/2020</td>\n      <td>律政司司長 訴 SWS</td>\n      <td>./Chi_Document/CAAR1-2020 律政司司長 訴 SWS.html</td>\n    </tr>\n    <tr>\n      <th>5</th>\n      <td>HCMA101/2020</td>\n      <td>[2020] HKCFI 1808</td>\n      <td>06/08/2020</td>\n      <td>香港特別行政區 訴 翁偉成及另一人</td>\n      <td>./Chi_Document/HCMA101-2020 香港特別行政區 訴 翁偉成及另一人....</td>\n    </tr>\n    <tr>\n      <th>6</th>\n      <td>CAAR7/2020</td>\n      <td>[2020] HKCA 829</td>\n      <td>28/10/2020</td>\n      <td>律政司司長 訴 S H Y</td>\n      <td>./Chi_Document/CAAR7-2020 律政司司長 訴 S H Y.html</td>\n    </tr>\n    <tr>\n      <th>7</th>\n      <td>HCMA20/2020</td>\n      <td>[2020] HKCFI 1783</td>\n      <td>07/08/2020</td>\n      <td>香港特別行政區 訴 浮光苗</td>\n      <td>./Chi_Document/HCMA20-2020 香港特別行政區 訴 浮光苗.html</td>\n    </tr>\n    <tr>\n      <th>8</th>\n      <td>HCMA619/2018</td>\n      <td>[2020] HKCFI 1966</td>\n      <td>21/08/2020</td>\n      <td>香港特別行政區 訴 莊志強</td>\n      <td>./Chi_Document/HCMA619-2018 香港特別行政區 訴 莊志強.html</td>\n    </tr>\n    <tr>\n      <th>9</th>\n      <td>CACC5/2019</td>\n      <td>[2020] HKCA 295</td>\n      <td>14/05/2020</td>\n      <td>香港特別行政區 訴 關韻琪</td>\n      <td>./Chi_Document/CACC5A-2019 香港特別行政區 訴 關韻琪.html</td>\n    </tr>\n    <tr>\n      <th>10</th>\n      <td>CAAR4/2019</td>\n      <td>[2020] HKCA 262</td>\n      <td>24/04/2020</td>\n      <td>律政司司長 訴 羅敏聰</td>\n      <td>./Chi_Document/CAAR4-2019 律政司司長 訴 羅敏聰.html</td>\n    </tr>\n    <tr>\n      <th>11</th>\n      <td>CAAR3/2019</td>\n      <td>[2020] HKCA 246</td>\n      <td>29/04/2020</td>\n      <td>律政司司長 訴 黃志平</td>\n      <td>./Chi_Document/CAAR3-2019 律政司司長 訴 黃志平.html</td>\n    </tr>\n    <tr>\n      <th>12</th>\n      <td>HCMA299/2019</td>\n      <td>[2020] HKCFI 612</td>\n      <td>23/04/2020</td>\n      <td>香港特別行政區 訴 曾少寶及另一人</td>\n      <td>./Chi_Document/HCMA299-2019 香港特別行政區 訴 曾少寶及另一人....</td>\n    </tr>\n    <tr>\n      <th>13</th>\n      <td>CAAR1/2019</td>\n      <td>[2020] HKCA 159</td>\n      <td>26/03/2020</td>\n      <td>律政司司長 訴 曾惠玲</td>\n      <td>./Chi_Document/CAAR1-2019 律政司司長 訴 曾惠玲.html</td>\n    </tr>\n    <tr>\n      <th>14</th>\n      <td>CACC164/2018</td>\n      <td>[2020] HKCA 275</td>\n      <td>29/04/2020</td>\n      <td>香港特別行政區 訴 梁天琦及另二人</td>\n      <td>./Chi_Document/CACC164-2018 香港特別行政區 訴 梁天琦及另二人....</td>\n    </tr>\n    <tr>\n      <th>15</th>\n      <td>CAAR2/2018</td>\n      <td>[2019] HKCA 951</td>\n      <td>24/09/2019</td>\n      <td>律政司司長 訴 張勁光</td>\n      <td>./Chi_Document/CAAR2-2018 律政司司長 訴 張勁光.html</td>\n    </tr>\n    <tr>\n      <th>16</th>\n      <td>CACC42/2018</td>\n      <td>[2019] HKCA 725</td>\n      <td>11/07/2019</td>\n      <td>香港特別行政區 訴 李偉嘉</td>\n      <td>./Chi_Document/CACC42A-2018 香港特別行政區 訴 李偉嘉.html</td>\n    </tr>\n    <tr>\n      <th>17</th>\n      <td>CACC74/2019</td>\n      <td>[2019] HKCA 972</td>\n      <td>23/08/2019</td>\n      <td>香港特別行政區 訴 梁炳權</td>\n      <td>./Chi_Document/CACC74-2019 香港特別行政區 訴 梁炳權.html</td>\n    </tr>\n    <tr>\n      <th>18</th>\n      <td>CACV586/2018</td>\n      <td>[2019] HKCA 925</td>\n      <td>20/08/2019</td>\n      <td>陳瑞華 對 上訴委員會（房屋）</td>\n      <td>./Chi_Document/CACV586-2018 陳瑞華 對 上訴委員會（房屋）.html</td>\n    </tr>\n    <tr>\n      <th>19</th>\n      <td>HCMA397/2019</td>\n      <td>[2019] HKCFI 2826</td>\n      <td>28/11/2019</td>\n      <td>香港特別行政區 訴 楊啟強</td>\n      <td>./Chi_Document/HCMA397-2019 香港特別行政區 訴 楊啟強.html</td>\n    </tr>\n  </tbody>\n</table>\n</div>"
     },
     "metadata": {},
     "execution_count": 11
    }
   ],
   "source": [
    "df"
   ]
  },
  {
   "cell_type": "code",
   "execution_count": null,
   "metadata": {},
   "outputs": [],
   "source": []
  }
 ]
}